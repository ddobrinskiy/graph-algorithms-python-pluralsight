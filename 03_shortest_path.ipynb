{
 "cells": [
  {
   "cell_type": "code",
   "execution_count": null,
   "metadata": {},
   "outputs": [],
   "source": [
    "# default_exp shortest_path"
   ]
  },
  {
   "cell_type": "markdown",
   "metadata": {},
   "source": [
    "# Shortest path\n",
    "\n",
    "> subtitle tbd\n",
    "\n",
    "edge weight = cost of a path\n",
    "\n",
    "\n",
    "weights unequal --> use Djistra's algo\n",
    "\n",
    "![](img/1.png)\n",
    "![](img/2.png)"
   ]
  },
  {
   "cell_type": "code",
   "execution_count": null,
   "metadata": {},
   "outputs": [],
   "source": [
    "# export\n",
    "from queue import Queue\n",
    "from typing import List, Dict\n",
    "from collections import namedtuple\n",
    "\n",
    "import pandas as pd\n",
    "\n",
    "import graph_utils.core as gu"
   ]
  },
  {
   "cell_type": "code",
   "execution_count": null,
   "metadata": {},
   "outputs": [],
   "source": []
  },
  {
   "cell_type": "code",
   "execution_count": null,
   "metadata": {},
   "outputs": [],
   "source": []
  },
  {
   "cell_type": "code",
   "execution_count": null,
   "metadata": {},
   "outputs": [],
   "source": []
  },
  {
   "cell_type": "code",
   "execution_count": null,
   "metadata": {},
   "outputs": [],
   "source": [
    "# export\n",
    "Row = namedtuple('Node', ['distance_from_source', 'preceding_vertex'])"
   ]
  },
  {
   "cell_type": "code",
   "execution_count": null,
   "metadata": {},
   "outputs": [
    {
     "data": {
      "text/plain": [
       "\u001b[0;31mInit signature:\u001b[0m \u001b[0mRow\u001b[0m\u001b[0;34m(\u001b[0m\u001b[0mdistance_from_source\u001b[0m\u001b[0;34m,\u001b[0m \u001b[0mpreceding_vertex\u001b[0m\u001b[0;34m)\u001b[0m\u001b[0;34m\u001b[0m\u001b[0;34m\u001b[0m\u001b[0m\n",
       "\u001b[0;31mDocstring:\u001b[0m      Node(distance_from_source, preceding_vertex)\n",
       "\u001b[0;31mType:\u001b[0m           type\n",
       "\u001b[0;31mSubclasses:\u001b[0m     \n"
      ]
     },
     "metadata": {},
     "output_type": "display_data"
    }
   ],
   "source": [
    "?Row"
   ]
  },
  {
   "cell_type": "code",
   "execution_count": null,
   "metadata": {},
   "outputs": [],
   "source": [
    "# export\n",
    "def _distance_table_to_df(distance_table:Dict):\n",
    "    df = pd.DataFrame.from_dict(distance_table, orient='index')\n",
    "    df.index.name = 'vertex_id'\n",
    "    return df"
   ]
  },
  {
   "cell_type": "code",
   "execution_count": null,
   "metadata": {},
   "outputs": [],
   "source": [
    "# export\n",
    "def build_distance_table(graph:gu.Graph, source:int):\n",
    "    distance_table = dict()\n",
    "\n",
    "    # initiate an empty distance table\n",
    "    for i in range(graph.numVertices):\n",
    "        #distance_table[i] = Row(distance_from_source=None, preceding_vertex=None)\n",
    "        distance_table[i] = Row(None, None)\n",
    "\n",
    "    # distance to the source from itself is 0\n",
    "    distance_table[source] = Row(0, source)\n",
    "\n",
    "    queue = Queue()\n",
    "    queue.put(source)\n",
    "\n",
    "    while not queue.empty():\n",
    "        current_vertex = queue.get()\n",
    "\n",
    "        # the distance of current vertex from the source\n",
    "        current_distance = distance_table[current_vertex][0] # zero is index of distance\n",
    "\n",
    "        for neighbor in graph.get_adjacent_vertices(current_vertex):\n",
    "            # only update dist table if no current distance from the source is set\n",
    "            neigbor_was_visited = distance_table[neighbor][0] is not None\n",
    "            if not neigbor_was_visited:\n",
    "                distance_table[neighbor] = Row(current_distance + 1, current_vertex)\n",
    "\n",
    "                # enqueue the neigbor only if in has other adjacent vertices to explore\n",
    "                if len(graph.get_adjacent_vertices(neighbor)):\n",
    "                    queue.put(neighbor)\n",
    "\n",
    "\n",
    "\n",
    "\n",
    "\n",
    "    return distance_table"
   ]
  },
  {
   "cell_type": "code",
   "execution_count": null,
   "metadata": {},
   "outputs": [
    {
     "data": {
      "text/plain": [
       "\u001b[0;31mInit signature:\u001b[0m \u001b[0mRow\u001b[0m\u001b[0;34m(\u001b[0m\u001b[0mdistance_from_source\u001b[0m\u001b[0;34m,\u001b[0m \u001b[0mpreceding_vertex\u001b[0m\u001b[0;34m)\u001b[0m\u001b[0;34m\u001b[0m\u001b[0;34m\u001b[0m\u001b[0m\n",
       "\u001b[0;31mDocstring:\u001b[0m      Node(distance_from_source, preceding_vertex)\n",
       "\u001b[0;31mType:\u001b[0m           type\n",
       "\u001b[0;31mSubclasses:\u001b[0m     \n"
      ]
     },
     "metadata": {},
     "output_type": "display_data"
    }
   ],
   "source": [
    "?Row"
   ]
  },
  {
   "cell_type": "code",
   "execution_count": null,
   "metadata": {},
   "outputs": [],
   "source": [
    "# export\n",
    "\n",
    "def shortest_path(graph:gu.Graph, source:int, destination:int):\n",
    "    distance_table = build_distance_table(graph, source)\n",
    "    path = [destination]\n",
    "    \n",
    "    # distance_table is a dict, s.t\n",
    "    #                       0                     1\n",
    "    # key:int = Row(distance_from_source, preceding_vertex)\n",
    "    \n",
    "    previous_vertex = distance_table[destination][1]\n",
    "    \n",
    "    while previous_vertex is not None and previous_vertex is not source:\n",
    "        path = [previous_vertex] + path\n",
    "        previous_vertex = distance_table[previous_vertex][1]\n",
    "    \n",
    "    if previous_vertex is None:\n",
    "        msg = 'There is no path from {} to {}'.format(source, destination)\n",
    "        print(msg)\n",
    "        return None\n",
    "    else:\n",
    "        path = [source] + path\n",
    "        return path"
   ]
  },
  {
   "cell_type": "markdown",
   "metadata": {},
   "source": [
    "![](img/3.png)"
   ]
  },
  {
   "cell_type": "code",
   "execution_count": null,
   "metadata": {},
   "outputs": [
    {
     "data": {
      "text/plain": [
       "0 --> 1\n",
       "0 --> 7\n",
       "1 --> 0\n",
       "1 --> 2\n",
       "1 --> 3\n",
       "1 --> 4\n",
       "2 --> 1\n",
       "2 --> 3\n",
       "3 --> 1\n",
       "3 --> 2\n",
       "3 --> 5\n",
       "3 --> 6\n",
       "4 --> 1\n",
       "4 --> 5\n",
       "5 --> 3\n",
       "5 --> 4\n",
       "6 --> 3\n",
       "6 --> 7\n",
       "7 --> 0\n",
       "7 --> 6"
      ]
     },
     "execution_count": null,
     "metadata": {},
     "output_type": "execute_result"
    }
   ],
   "source": [
    "g = gu.AdjacencySetGraph(8, directed=False)\n",
    "g.add_edge(0, 1)\n",
    "g.add_edge(1, 2)\n",
    "g.add_edge(1, 3)\n",
    "g.add_edge(2, 3)\n",
    "g.add_edge(1, 4)\n",
    "g.add_edge(3, 5)\n",
    "g.add_edge(5, 4)\n",
    "g.add_edge(3, 6)\n",
    "g.add_edge(6, 7)\n",
    "g.add_edge(0, 7)\n",
    "g"
   ]
  },
  {
   "cell_type": "code",
   "execution_count": null,
   "metadata": {},
   "outputs": [
    {
     "data": {
      "text/html": [
       "<div>\n",
       "<style scoped>\n",
       "    .dataframe tbody tr th:only-of-type {\n",
       "        vertical-align: middle;\n",
       "    }\n",
       "\n",
       "    .dataframe tbody tr th {\n",
       "        vertical-align: top;\n",
       "    }\n",
       "\n",
       "    .dataframe thead th {\n",
       "        text-align: right;\n",
       "    }\n",
       "</style>\n",
       "<table border=\"1\" class=\"dataframe\">\n",
       "  <thead>\n",
       "    <tr style=\"text-align: right;\">\n",
       "      <th></th>\n",
       "      <th>distance_from_source</th>\n",
       "      <th>preceding_vertex</th>\n",
       "    </tr>\n",
       "    <tr>\n",
       "      <th>vertex_id</th>\n",
       "      <th></th>\n",
       "      <th></th>\n",
       "    </tr>\n",
       "  </thead>\n",
       "  <tbody>\n",
       "    <tr>\n",
       "      <th>0</th>\n",
       "      <td>0</td>\n",
       "      <td>0</td>\n",
       "    </tr>\n",
       "    <tr>\n",
       "      <th>1</th>\n",
       "      <td>1</td>\n",
       "      <td>0</td>\n",
       "    </tr>\n",
       "    <tr>\n",
       "      <th>2</th>\n",
       "      <td>2</td>\n",
       "      <td>1</td>\n",
       "    </tr>\n",
       "    <tr>\n",
       "      <th>3</th>\n",
       "      <td>2</td>\n",
       "      <td>1</td>\n",
       "    </tr>\n",
       "    <tr>\n",
       "      <th>4</th>\n",
       "      <td>2</td>\n",
       "      <td>1</td>\n",
       "    </tr>\n",
       "    <tr>\n",
       "      <th>5</th>\n",
       "      <td>3</td>\n",
       "      <td>3</td>\n",
       "    </tr>\n",
       "    <tr>\n",
       "      <th>6</th>\n",
       "      <td>2</td>\n",
       "      <td>7</td>\n",
       "    </tr>\n",
       "    <tr>\n",
       "      <th>7</th>\n",
       "      <td>1</td>\n",
       "      <td>0</td>\n",
       "    </tr>\n",
       "  </tbody>\n",
       "</table>\n",
       "</div>"
      ],
      "text/plain": [
       "           distance_from_source  preceding_vertex\n",
       "vertex_id                                        \n",
       "0                             0                 0\n",
       "1                             1                 0\n",
       "2                             2                 1\n",
       "3                             2                 1\n",
       "4                             2                 1\n",
       "5                             3                 3\n",
       "6                             2                 7\n",
       "7                             1                 0"
      ]
     },
     "execution_count": null,
     "metadata": {},
     "output_type": "execute_result"
    }
   ],
   "source": [
    "build_distance_table(g, 0)\n",
    "\n",
    "\n",
    "_distance_table_to_df(build_distance_table(g, 0))"
   ]
  },
  {
   "cell_type": "code",
   "execution_count": null,
   "metadata": {},
   "outputs": [],
   "source": [
    "_distance_table_to_df(build_distance_table(g, 0))\n",
    "expected_dict = {'distance_from_source': {0: 0, 1: 1, 2: 2, 3: 2, 4: 2, 5: 3, 6: 2, 7: 1},\n",
    "                     'preceding_vertex': {0: 0, 1: 0, 2: 1, 3: 1, 4: 1, 5: 3, 6: 7, 7: 0}\n",
    "                }\n",
    "\n",
    "expected = pd.DataFrame(expected_dict)\n",
    "got = _distance_table_to_df(build_distance_table(g, 0))\n",
    "comparison_matrix = (got == expected)\n",
    "not_equal = ~comparison_matrix.all(axis=1)\n",
    "\n",
    "if not_equal.any():\n",
    "    raise ValueError(f\"{not_equal.sum()} vertices in distance table do not match\")"
   ]
  },
  {
   "cell_type": "code",
   "execution_count": null,
   "metadata": {},
   "outputs": [],
   "source": [
    "assert shortest_path(g, 0, 5) == [0,1,3,5]\n",
    "assert shortest_path(g, 0, 6) == [0,7,6]\n",
    "assert shortest_path(g, 7, 4) == [7,0,1,4]"
   ]
  },
  {
   "cell_type": "code",
   "execution_count": null,
   "metadata": {},
   "outputs": [
    {
     "name": "stdout",
     "output_type": "stream",
     "text": [
      "There is no path from 7 to 4\n"
     ]
    }
   ],
   "source": [
    "g = gu.AdjacencySetGraph(8, directed=True)\n",
    "g.add_edge(0, 1)\n",
    "g.add_edge(1, 2)\n",
    "g.add_edge(1, 3)\n",
    "g.add_edge(2, 3)\n",
    "g.add_edge(1, 4)\n",
    "g.add_edge(3, 5)\n",
    "g.add_edge(5, 4)\n",
    "g.add_edge(3, 6)\n",
    "g.add_edge(6, 7)\n",
    "g.add_edge(0, 7)\n",
    "\n",
    "assert shortest_path(g, 0, 5) == [0,1,3,5]\n",
    "assert shortest_path(g, 0, 6) == [0,1,3,6]\n",
    "assert shortest_path(g, 7, 4) is None"
   ]
  },
  {
   "cell_type": "code",
   "execution_count": null,
   "metadata": {},
   "outputs": [],
   "source": []
  },
  {
   "cell_type": "code",
   "execution_count": null,
   "metadata": {},
   "outputs": [],
   "source": []
  }
 ],
 "metadata": {
  "kernelspec": {
   "display_name": "Python (py3k)",
   "language": "python",
   "name": "py3k"
  }
 },
 "nbformat": 4,
 "nbformat_minor": 4
}
