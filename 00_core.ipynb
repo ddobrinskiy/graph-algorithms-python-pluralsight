{
 "cells": [
  {
   "cell_type": "code",
   "execution_count": 6,
   "metadata": {},
   "outputs": [],
   "source": [
    "# default_exp core"
   ]
  },
  {
   "cell_type": "markdown",
   "metadata": {},
   "source": [
    "# graph_utils \n",
    "\n",
    "> a library for working with graphs"
   ]
  },
  {
   "cell_type": "code",
   "execution_count": 7,
   "metadata": {},
   "outputs": [],
   "source": [
    "#hide\n",
    "from nbdev.showdoc import *"
   ]
  },
  {
   "cell_type": "markdown",
   "metadata": {},
   "source": [
    "# declare base `Graph` class"
   ]
  },
  {
   "cell_type": "code",
   "execution_count": 31,
   "metadata": {},
   "outputs": [],
   "source": [
    "# export\n",
    "import abc\n",
    "import numpy as np\n",
    "\n",
    "class Graph(abc.ABC):\n",
    "    \n",
    "    def __init__(self, numVertices:int, directed:bool=False):\n",
    "        self.numVertices = numVertices\n",
    "        self.directed = directed\n",
    "        \n",
    "    def check_validity(self, v):\n",
    "        if v < 0 or v >= self.numVertices:\n",
    "            raise ValueError(\"Vertice {} is out of bounds\".format(v))\n",
    "        return True\n",
    "    \n",
    "    @abc.abstractmethod\n",
    "    def add_edge(self, v1, v2, weight):\n",
    "        pass\n",
    "    \n",
    "    @abc.abstractmethod\n",
    "    def get_adjacent_vertices(self, v):\n",
    "        pass\n",
    "    \n",
    "    @abc.abstractmethod\n",
    "    def get_indegree(self, v):\n",
    "        pass\n",
    "    \n",
    "    @abc.abstractmethod\n",
    "    def get_edge_weight(self, v1, v2):\n",
    "        pass\n",
    "    \n",
    "    @abc.abstractmethod\n",
    "    def display(self):\n",
    "        pass\n",
    "        "
   ]
  },
  {
   "cell_type": "markdown",
   "metadata": {},
   "source": [
    "# AdjacencyMatrixGraph"
   ]
  },
  {
   "cell_type": "code",
   "execution_count": 32,
   "metadata": {},
   "outputs": [],
   "source": [
    "# export\n",
    "\n",
    "class AdjacencyMatrixGraph(Graph):\n",
    "    def __init__(self, numVertices:int, directed:bool=False):\n",
    "        super(AdjacencyMatrixGraph, self).__init__(numVertices, directed)\n",
    "        \n",
    "        self.matrix = np.zeros([numVertices, numVertices])\n",
    "        \n",
    "\n",
    "    def add_edge(self, v1, v2, weight=1):\n",
    "\n",
    "        self.check_validity(v1)\n",
    "        self.check_validity(v2)\n",
    "        if weight < 1:\n",
    "            raise ValueError(\"An edge cant have weight < 1\")\n",
    "        \n",
    "        self.matrix[v1][v2] = weight\n",
    "            \n",
    "    def get_adjacent_vertices(self, v):\n",
    "        self.check_validity(v)\n",
    "\n",
    "        adjacent_vertices = []\n",
    "\n",
    "        for i in range(self.numVertices):\n",
    "            if self.matrix[v][i] > 0:\n",
    "                adjacent_vertices.append(i)\n",
    "        return adjacent_vertices\n",
    "\n",
    "    def get_edge_weight(self, v1, v2):\n",
    "        self.check_validity(v1)\n",
    "        self.check_validity(v2)\n",
    "        return self.matrix[v1][v2]\n",
    "\n",
    "    def get_indegree(self, v):\n",
    "        self.check_validity(v)\n",
    "\n",
    "        indegree = 0\n",
    "        for i in range(self.numVertices):\n",
    "            if self.matrix[v][i] > 0:\n",
    "                indegree += 1\n",
    "        return indegree\n",
    "\n",
    "    def display(self):\n",
    "        print(str(self.matrix))"
   ]
  },
  {
   "cell_type": "code",
   "execution_count": 33,
   "metadata": {},
   "outputs": [],
   "source": [
    "###################################################\n",
    "# test AdjacencyMatrixGraph \n",
    "####################################################\n",
    "\n",
    "amg = AdjacencyMatrixGraph(numVertices=3)\n",
    "amg.add_edge(1, 2)\n",
    "amg.add_edge(0, 1)\n",
    "amg.add_edge(0, 2)\n",
    "\n",
    "got = amg.matrix.tolist()\n",
    "expected = [[0.0, 1.0, 1.0],\n",
    "            [0.0, 0.0, 1.0],\n",
    "            [0.0, 0.0, 0.0]]\n",
    "assert got == expected, \"got: {}, expected: {}\".format(got, expected)\n",
    "\n",
    "amg.add_edge(1, 1, weight=5)\n",
    "got = amg.matrix.tolist()\n",
    "expected = [[0.0, 1.0, 1.0],\n",
    "            [0.0, 5.0, 1.0],\n",
    "            [0.0, 0.0, 0.0]]\n",
    "assert got == expected, \"got: {}, expected: {}\".format(got, expected)\n",
    "\n",
    "\n",
    "assert amg.get_indegree(1) == 2\n",
    "assert amg.get_edge_weight(1,1) == 5\n",
    "assert amg.get_adjacent_vertices(1) == [1,2]"
   ]
  },
  {
   "cell_type": "markdown",
   "metadata": {},
   "source": [
    "# AdjacencySetGraph\n",
    "\n",
    "each node maintainst a set of it's adjascend nodes\n",
    "\n",
    "![](https://i.imgur.com/KsMWFni.png)"
   ]
  },
  {
   "cell_type": "code",
   "execution_count": 46,
   "metadata": {},
   "outputs": [],
   "source": [
    "# export\n",
    "class Node:\n",
    "    \"\"\"Node represents one vertex in a graph\n",
    "    \n",
    "    each node has a vertex id\n",
    "    each node is associated with a set of adjacent vertices\n",
    "    \"\"\"\n",
    "    def __init__(self, vertexId):\n",
    "        self.vertexId = vertexId\n",
    "        self.adjacency_set = set()\n",
    "        \n",
    "    def add_edge(self, v):\n",
    "        if self.vertexId == v:\n",
    "            raise ValueError(\"Vertex {} cannot be adjacent to itself\".format(v))\n",
    "        else:\n",
    "            self.adjacency_set.add(v)\n",
    "            \n",
    "    def get_adjacent_vertices(self):\n",
    "        return sorted(self.adjacency_set)\n",
    "    \n",
    "    def __repr__(self):\n",
    "        return \"Node({})\".format(self.vertexId)"
   ]
  },
  {
   "cell_type": "code",
   "execution_count": 56,
   "metadata": {},
   "outputs": [
    {
     "data": {
      "text/plain": [
       "[Node(0), Node(1), Node(2), Node(3)]"
      ]
     },
     "execution_count": 56,
     "metadata": {},
     "output_type": "execute_result"
    }
   ],
   "source": [
    "class AdjacencySetGraph(Graph):\n",
    "    \n",
    "    def __init__(self, numVertices, directed=False):\n",
    "        super(AdjacencySetGraph, self).__init__(numVertices, directed)\n",
    "        self.vertex_list = [Node(i) for i in range(numVertices)]\n",
    "\n",
    "    def add_edge(self, v1, v2, weight=1):\n",
    "        self.check_validity(v1)\n",
    "        self.check_validity(v2)\n",
    "        if weight != 1:\n",
    "            raise ValueError(\"An adjacency set can only represent edge weights == 1\")\n",
    "            \n",
    "        # add connection from v1 to v2\n",
    "        self.vertex_list[v1].add_edge(v2)\n",
    "        \n",
    "        # undirected graphs work both ways\n",
    "        if self.directed == False:\n",
    "            self.vertex_list[v2].add_edge(v1)\n",
    "\n",
    "    def get_adjacent_vertices(self, v):\n",
    "        self.check_validity(v)\n",
    "        \n",
    "        node = self.vertex_list[v]\n",
    "        return node.get_adjacent_vertices()\n",
    "    \n",
    "    def get_indegree(self, v):\n",
    "        self.check_validity(v)\n",
    "        \n",
    "        indegree = 0\n",
    "        \n",
    "        for i in range(self.numVertices):\n",
    "            if v in self.get_adjacent_vertices(i):\n",
    "                indegree += 1\n",
    "                \n",
    "        return indegree\n",
    "    \n",
    "    def get_edge_weight(self, v1, v2):\n",
    "        return 1\n",
    "        \n",
    "    \n",
    "    def display(self):\n",
    "        for node in asg.vertex_list:\n",
    "            for v in node.get_adjacent_vertices():\n",
    "                print(node.vertexId, \"-->\", v)\n",
    "        \n",
    "    \n",
    "asg = AdjacencySetGraph(4, directed=True)\n",
    "asg.vertex_list"
   ]
  },
  {
   "cell_type": "code",
   "execution_count": 60,
   "metadata": {},
   "outputs": [
    {
     "name": "stdout",
     "output_type": "stream",
     "text": [
      "0 --> 1\n",
      "0 --> 3\n",
      "1 --> 2\n",
      "2 --> 3\n",
      "3 --> 0\n"
     ]
    }
   ],
   "source": [
    "asg.add_edge(0, 1)\n",
    "asg.add_edge(0, 3)\n",
    "asg.add_edge(1, 2)\n",
    "asg.add_edge(2, 3)\n",
    "asg.add_edge(3, 0)\n",
    "asg.display()"
   ]
  },
  {
   "cell_type": "markdown",
   "metadata": {},
   "source": [
    "# Breadth-first graph traversal\n",
    "\n",
    "> scan all nodes 1 step away from origin, then 2 steps, then 3, and so on"
   ]
  },
  {
   "cell_type": "code",
   "execution_count": 64,
   "metadata": {},
   "outputs": [
    {
     "data": {
      "text/plain": [
       "3"
      ]
     },
     "execution_count": 64,
     "metadata": {},
     "output_type": "execute_result"
    }
   ],
   "source": [
    "1+2"
   ]
  },
  {
   "cell_type": "code",
   "execution_count": null,
   "metadata": {},
   "outputs": [],
   "source": []
  },
  {
   "cell_type": "markdown",
   "metadata": {},
   "source": [
    "# Depth-first graph traversal\n",
    "\n",
    "> go deep in 1 direction until you reach a dead end"
   ]
  },
  {
   "cell_type": "code",
   "execution_count": 63,
   "metadata": {},
   "outputs": [
    {
     "data": {
      "text/plain": [
       "2"
      ]
     },
     "execution_count": 63,
     "metadata": {},
     "output_type": "execute_result"
    }
   ],
   "source": [
    "1+1"
   ]
  },
  {
   "cell_type": "code",
   "execution_count": null,
   "metadata": {},
   "outputs": [],
   "source": []
  }
 ],
 "metadata": {
  "kernelspec": {
   "display_name": "Python (py3k)",
   "language": "python",
   "name": "py3k"
  },
  "language_info": {
   "codemirror_mode": {
    "name": "ipython",
    "version": 3
   },
   "file_extension": ".py",
   "mimetype": "text/x-python",
   "name": "python",
   "nbconvert_exporter": "python",
   "pygments_lexer": "ipython3",
   "version": "3.8.1"
  }
 },
 "nbformat": 4,
 "nbformat_minor": 4
}
