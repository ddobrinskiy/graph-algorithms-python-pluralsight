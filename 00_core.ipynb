{
 "cells": [
  {
   "cell_type": "code",
   "execution_count": null,
   "metadata": {},
   "outputs": [],
   "source": [
    "# default_exp core"
   ]
  },
  {
   "cell_type": "markdown",
   "metadata": {},
   "source": [
    "# module name here\n",
    "\n",
    "> API details."
   ]
  },
  {
   "cell_type": "code",
   "execution_count": null,
   "metadata": {},
   "outputs": [],
   "source": [
    "#hide\n",
    "from nbdev.showdoc import *"
   ]
  },
  {
   "cell_type": "code",
   "execution_count": null,
   "metadata": {},
   "outputs": [],
   "source": [
    "# export\n",
    "import abc\n",
    "\n",
    "import numpy as np\n",
    "\n",
    "\n",
    "class Graph(abc.ABC):\n",
    "    \n",
    "    def __init__(self, numVertices:int, directed:bool=False):\n",
    "        self.numVertices = numVertices\n",
    "        self.directed = directed\n",
    "        \n",
    "    @abc.abstractmethod\n",
    "    def add_edge(self, v1, v2, weight):\n",
    "        pass\n",
    "    \n",
    "    @abc.abstractmethod\n",
    "    def get_adjacent_vertices(self, v):\n",
    "        pass\n",
    "    \n",
    "    @abc.abstractmethod\n",
    "    def get_indegree(self, v):\n",
    "        pass\n",
    "    \n",
    "    @abc.abstractmethod\n",
    "    def get_edge_weight(self, v1, v2):\n",
    "        pass\n",
    "    \n",
    "    @abc.abstractmethod\n",
    "    def display(self):\n",
    "        pass\n",
    "        "
   ]
  },
  {
   "cell_type": "code",
   "execution_count": null,
   "metadata": {},
   "outputs": [],
   "source": [
    "\n"
   ]
  },
  {
   "cell_type": "code",
   "execution_count": null,
   "metadata": {},
   "outputs": [],
   "source": []
  },
  {
   "cell_type": "code",
   "execution_count": null,
   "metadata": {},
   "outputs": [],
   "source": []
  },
  {
   "cell_type": "code",
   "execution_count": null,
   "metadata": {},
   "outputs": [],
   "source": [
    "\n"
   ]
  },
  {
   "cell_type": "code",
   "execution_count": null,
   "metadata": {},
   "outputs": [],
   "source": []
  },
  {
   "cell_type": "code",
   "execution_count": null,
   "metadata": {},
   "outputs": [],
   "source": []
  },
  {
   "cell_type": "code",
   "execution_count": null,
   "metadata": {},
   "outputs": [],
   "source": []
  }
 ],
 "metadata": {
  "kernelspec": {
   "display_name": "Python (py3k)",
   "language": "python",
   "name": "py3k"
  }
 },
 "nbformat": 4,
 "nbformat_minor": 4
}
