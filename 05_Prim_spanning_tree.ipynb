{
 "cells": [
  {
   "cell_type": "code",
   "execution_count": null,
   "metadata": {},
   "outputs": [],
   "source": [
    "# default_exp prim "
   ]
  },
  {
   "cell_type": "markdown",
   "metadata": {},
   "source": [
    "# Prim\n",
    "\n",
    "> spanning tree for joint graphs"
   ]
  },
  {
   "cell_type": "code",
   "execution_count": null,
   "metadata": {},
   "outputs": [],
   "source": [
    "# export\n",
    "from queue import Queue\n",
    "from typing import List, Dict\n",
    "from collections import namedtuple\n",
    "\n",
    "import graph_utils.core as gu\n",
    "from graph_utils.dijsktra import priority_dict"
   ]
  },
  {
   "cell_type": "code",
   "execution_count": null,
   "metadata": {},
   "outputs": [],
   "source": [
    "# export\n",
    "Row = namedtuple('Node', ['distance_from_source', 'preceding_vertex'])"
   ]
  },
  {
   "cell_type": "code",
   "execution_count": null,
   "metadata": {},
   "outputs": [],
   "source": [
    "g = gu.AdjacencyMatrixGraph(8, directed=False)\n",
    "g.add_edge(0, 1,1 )\n",
    "g.add_edge(1, 2,2 )\n",
    "g.add_edge(1, 3,2 )\n",
    "g.add_edge(2, 3,2 )\n",
    "g.add_edge(1, 4,3 )\n",
    "g.add_edge(3, 5,1 )\n",
    "g.add_edge(5, 4,3 )\n",
    "g.add_edge(3, 6,1 )\n",
    "g.add_edge(6, 7,1 )\n",
    "g.add_edge(0, 7,1 )"
   ]
  },
  {
   "cell_type": "code",
   "execution_count": null,
   "metadata": {},
   "outputs": [],
   "source": []
  },
  {
   "cell_type": "code",
   "execution_count": null,
   "metadata": {},
   "outputs": [],
   "source": [
    "# export\n",
    "def spanning_tree(graph:gu.Graph, source):\n",
    "    distance_table = dict()\n",
    "\n",
    "    # initiate an empty distance table\n",
    "    for i in range(graph.numVertices):\n",
    "        #distance_table[i] = Row(distance_from_source=None, preceding_vertex=None)\n",
    "        distance_table[i] = Row(None, None)\n",
    "\n",
    "    # distance to the source from itself is 0\n",
    "    distance_table[source] = Row(0, source)\n",
    "\n",
    "    # Holds mapping of vertex id to distance\n",
    "    # from source. Access the highest priority (lowest distance)\n",
    "    # item first\n",
    "    priority_queue = priority_dict()\n",
    "    # priority_queue[vertex number] = distance\n",
    "\n",
    "    priority_queue[source] = 0\n",
    "\n",
    "    visited_vertices = set()\n",
    "\n",
    "    # Set of edges where each edge represented as a string\n",
    "    # \"1->2 is an edge between vertices 1 and 2\"\n",
    "    spanning_tree = set()\n",
    "\n",
    "    while priority_queue:\n",
    "\n",
    "        current_vertex = priority_queue.pop_smallest()\n",
    "\n",
    "        if current_vertex in visited_vertices:\n",
    "            continue\n",
    "\n",
    "        visited_vertices.add(current_vertex)\n",
    "\n",
    "        if current_vertex != source:\n",
    "            last_vertex = distance_table[current_vertex][1]\n",
    "\n",
    "            edge = f\"{last_vertex}->{current_vertex}\"\n",
    "\n",
    "            if edge not in spanning_tree:\n",
    "                spanning_tree.add(edge)\n",
    "\n",
    "        for neighbor in graph.get_adjacent_vertices(current_vertex):\n",
    "\n",
    "            distance = g.get_edge_weight(current_vertex, neighbor)\n",
    "\n",
    "            neighbor_distance = distance_table[neighbor][0]\n",
    "\n",
    "            if neighbor_distance is None or neighbor_distance > distance:\n",
    "                distance_table[neighbor] = Row(distance, current_vertex)\n",
    "                priority_queue[neighbor] = distance\n",
    "\n",
    "\n",
    "\n",
    "\n",
    "    return spanning_tree"
   ]
  },
  {
   "cell_type": "code",
   "execution_count": null,
   "metadata": {},
   "outputs": [],
   "source": [
    "assert spanning_tree(g, 3) == {'0->1', '3->2', '3->5', '3->6', '5->4', '6->7', '7->0'}"
   ]
  },
  {
   "cell_type": "code",
   "execution_count": null,
   "metadata": {},
   "outputs": [],
   "source": []
  }
 ],
 "metadata": {
  "kernelspec": {
   "display_name": "Python (py3k)",
   "language": "python",
   "name": "py3k"
  }
 },
 "nbformat": 4,
 "nbformat_minor": 4
}
