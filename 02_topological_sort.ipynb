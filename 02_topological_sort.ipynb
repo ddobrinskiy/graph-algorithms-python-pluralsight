{
 "cells": [
  {
   "cell_type": "code",
   "execution_count": null,
   "metadata": {},
   "outputs": [],
   "source": [
    "# default_exp top_sort"
   ]
  },
  {
   "cell_type": "code",
   "execution_count": null,
   "metadata": {},
   "outputs": [],
   "source": [
    "# export\n",
    "from queue import Queue\n",
    "from typing import List\n",
    "\n",
    "import graph_utils.core as gu\n",
    "import graph_utils.traversal as gut"
   ]
  },
  {
   "cell_type": "code",
   "execution_count": null,
   "metadata": {},
   "outputs": [
    {
     "data": {
      "text/plain": [
       "['Graph', 'AdjacencyMatrixGraph', 'Node', 'AdjacencySetGraph']"
      ]
     },
     "execution_count": null,
     "metadata": {},
     "output_type": "execute_result"
    }
   ],
   "source": [
    "gu.__all__"
   ]
  },
  {
   "cell_type": "code",
   "execution_count": null,
   "metadata": {},
   "outputs": [
    {
     "data": {
      "text/plain": [
       "['breadth_first', 'depth_first']"
      ]
     },
     "execution_count": null,
     "metadata": {},
     "output_type": "execute_result"
    }
   ],
   "source": [
    "gut.__all__"
   ]
  },
  {
   "cell_type": "code",
   "execution_count": null,
   "metadata": {},
   "outputs": [],
   "source": [
    "# export\n",
    "def topological_sort(graph:gu.Graph) -> List:\n",
    "    \"\"\"calc topological sort of a DAG\"\"\"\n",
    "    \n",
    "    queue = Queue()\n",
    "    \n",
    "    indegreeMap = dict()\n",
    "    \n",
    "    for i in range(graph.numVertices):\n",
    "        indegreeMap[i] = graph.get_indegree(i)\n",
    "        \n",
    "        # Queue all nodes with no dependencies, i.e. no edges coming in\n",
    "        if indegreeMap[i] == 0:\n",
    "            queue.put(i)\n",
    "            \n",
    "        sortedList = []\n",
    "        \n",
    "    while not queue.empty():\n",
    "\n",
    "        vertex = queue.get()\n",
    "\n",
    "        sortedList.append(vertex)\n",
    "\n",
    "        for v in graph.get_adjacent_vertices(vertex):\n",
    "\n",
    "            # decrement by one\n",
    "            indegreeMap[v] -= 1\n",
    "\n",
    "            if indegreeMap[v] == 0:\n",
    "                queue.put(v)\n",
    "\n",
    "    if len(sortedList) != graph.numVertices:\n",
    "        raise ValueError(\"This graph has a cycle!\")\n",
    "\n",
    "    return sortedList\n",
    "            \n",
    "            \n",
    "        "
   ]
  },
  {
   "cell_type": "code",
   "execution_count": null,
   "metadata": {},
   "outputs": [
    {
     "data": {
      "text/plain": [
       "\u001b[0;31mSignature:\u001b[0m \u001b[0mtopological_sort\u001b[0m\u001b[0;34m(\u001b[0m\u001b[0mgraph\u001b[0m\u001b[0;34m:\u001b[0m \u001b[0mgraph_utils\u001b[0m\u001b[0;34m.\u001b[0m\u001b[0mcore\u001b[0m\u001b[0;34m.\u001b[0m\u001b[0mGraph\u001b[0m\u001b[0;34m)\u001b[0m \u001b[0;34m->\u001b[0m \u001b[0mList\u001b[0m\u001b[0;34m\u001b[0m\u001b[0;34m\u001b[0m\u001b[0m\n",
       "\u001b[0;31mDocstring:\u001b[0m calc topological sort of a DAG\n",
       "\u001b[0;31mFile:\u001b[0m      ~/proj/graph-algorithms-python-pluralsight/<ipython-input-5-8e1b54a8340d>\n",
       "\u001b[0;31mType:\u001b[0m      function\n"
      ]
     },
     "metadata": {},
     "output_type": "display_data"
    }
   ],
   "source": [
    "?topological_sort"
   ]
  },
  {
   "cell_type": "code",
   "execution_count": null,
   "metadata": {},
   "outputs": [
    {
     "name": "stdout",
     "output_type": "stream",
     "text": [
      "0 --> 1\n",
      "1 --> 2\n",
      "1 --> 5\n",
      "2 --> 3\n",
      "2 --> 4\n",
      "2 --> 7\n",
      "3 --> 4\n",
      "3 --> 6\n",
      "5 --> 6\n",
      "6 --> 8\n"
     ]
    }
   ],
   "source": [
    "g = gu.AdjacencyMatrixGraph(9, directed=True)\n",
    "g.add_edge(0,1)\n",
    "g.add_edge(1,2)\n",
    "g.add_edge(2,7)\n",
    "g.add_edge(2,4)\n",
    "g.add_edge(2,3)\n",
    "g.add_edge(1,5)\n",
    "g.add_edge(5,6)\n",
    "g.add_edge(3,6)\n",
    "g.add_edge(3,4)\n",
    "g.add_edge(6,8)\n",
    "g.display()\n",
    "assert topological_sort(g) == [0, 1, 2, 5, 3, 7, 4, 6, 8]"
   ]
  },
  {
   "cell_type": "code",
   "execution_count": null,
   "metadata": {},
   "outputs": [],
   "source": []
  },
  {
   "cell_type": "code",
   "execution_count": null,
   "metadata": {},
   "outputs": [],
   "source": []
  }
 ],
 "metadata": {
  "kernelspec": {
   "display_name": "Python (py3k)",
   "language": "python",
   "name": "py3k"
  }
 },
 "nbformat": 4,
 "nbformat_minor": 4
}
