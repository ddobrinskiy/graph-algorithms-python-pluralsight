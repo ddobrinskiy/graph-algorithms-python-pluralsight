{
 "cells": [
  {
   "cell_type": "code",
   "execution_count": null,
   "metadata": {},
   "outputs": [],
   "source": [
    "# default_exp traversal"
   ]
  },
  {
   "cell_type": "code",
   "execution_count": null,
   "metadata": {},
   "outputs": [
    {
     "data": {
      "text/plain": [
       "['Graph', 'AdjacencyMatrixGraph', 'Node', 'AdjacencySetGraph', 'asg']"
      ]
     },
     "execution_count": null,
     "metadata": {},
     "output_type": "execute_result"
    }
   ],
   "source": [
    "# export\n",
    "\n",
    "from queue import Queue\n",
    "from typing import List\n",
    "\n",
    "import numpy as np\n",
    "\n",
    "import graph_utils.core as gu\n",
    "gu.__all__"
   ]
  },
  {
   "cell_type": "markdown",
   "metadata": {},
   "source": [
    "# Breadth-first graph traversal\n",
    "\n",
    "> scan all nodes 1 step away from origin, then 2 steps, then 3, and so on\n",
    ">\n",
    "> i.e. \"move in concentric circles from origin\""
   ]
  },
  {
   "cell_type": "code",
   "execution_count": null,
   "metadata": {},
   "outputs": [],
   "source": []
  },
  {
   "cell_type": "code",
   "execution_count": null,
   "metadata": {},
   "outputs": [],
   "source": [
    "# export\n",
    "def breadth_first(graph:gu.Graph, start:int=0) -> List:\n",
    "    \"\"\"perform a BFS\n",
    "    \n",
    "    # Breadth-first graph traversal\n",
    "\n",
    "    > scan all nodes 1 step away from origin, then 2 steps, then 3, and so on\n",
    "    >\n",
    "    > i.e. \"move in concentric circles from origin\"\n",
    "    \"\"\"\n",
    "    \n",
    "    \n",
    "    queue = Queue() # FiFo data struct\n",
    "    queue.put(start)\n",
    "    \n",
    "    visited = np.zeros(graph.numVertices)\n",
    "    \n",
    "    while not queue.empty():\n",
    "        vertex = queue.get()\n",
    "        \n",
    "        # if a node has already been visited, skip it\n",
    "        if visited[vertex] == 1:\n",
    "            continue\n",
    "            \n",
    "        # otherwise, initiate node visit:\n",
    "            \n",
    "        # indicate that a node has been visited\n",
    "#         print(\"Visit: \", vertex)\n",
    "        visited[vertex] = 1\n",
    "        \n",
    "        # add all UN-VISITED neigbors of a node to queue\n",
    "        for v in graph.get_adjacent_vertices(vertex):\n",
    "            if not visited[v]:\n",
    "                queue.put(v)\n",
    "                \n",
    "    if not visited.all():\n",
    "        nodes_not_visited = (visited == 0).sum()\n",
    "        nodes_num = len(visited)\n",
    "        msg = \"{} out of {} nodes were not visited!\".format(nodes_not_visited, nodes_num)\n",
    "        raise ValueError(msg)\n",
    "        \n",
    "    return visited.all()"
   ]
  },
  {
   "cell_type": "markdown",
   "metadata": {},
   "source": [
    "## test BFS\n",
    "\n",
    "![bfs.png](https://i.imgur.com/kxEqOci.png)"
   ]
  },
  {
   "cell_type": "code",
   "execution_count": null,
   "metadata": {},
   "outputs": [
    {
     "name": "stdout",
     "output_type": "stream",
     "text": [
      "[[0. 1. 0. 0. 0. 0. 0. 0. 0.]\n",
      " [1. 0. 1. 0. 0. 1. 0. 0. 0.]\n",
      " [0. 1. 0. 1. 1. 0. 0. 1. 0.]\n",
      " [0. 0. 1. 0. 1. 0. 1. 0. 0.]\n",
      " [0. 0. 1. 1. 0. 0. 0. 0. 0.]\n",
      " [0. 1. 0. 0. 0. 0. 1. 0. 0.]\n",
      " [0. 0. 0. 1. 0. 1. 0. 0. 1.]\n",
      " [0. 0. 1. 0. 0. 0. 0. 0. 0.]\n",
      " [0. 0. 0. 0. 0. 0. 1. 0. 0.]]\n"
     ]
    },
    {
     "data": {
      "text/plain": [
       "True"
      ]
     },
     "execution_count": null,
     "metadata": {},
     "output_type": "execute_result"
    }
   ],
   "source": [
    "g = gu.AdjacencyMatrixGraph(9, directed=False)\n",
    "g.add_edge(0,1)\n",
    "g.add_edge(1,2)\n",
    "g.add_edge(2,7)\n",
    "g.add_edge(2,4)\n",
    "g.add_edge(2,3)\n",
    "g.add_edge(1,5)\n",
    "g.add_edge(5,6)\n",
    "g.add_edge(6,3)\n",
    "g.add_edge(3,4)\n",
    "g.add_edge(6,8)\n",
    "g.display()\n",
    "\n",
    "breadth_first(g, 2)"
   ]
  },
  {
   "cell_type": "code",
   "execution_count": null,
   "metadata": {},
   "outputs": [
    {
     "name": "stdout",
     "output_type": "stream",
     "text": [
      "[[0. 1. 0. 0. 0. 0. 0. 0. 0.]\n",
      " [0. 0. 1. 0. 0. 1. 0. 0. 0.]\n",
      " [0. 0. 0. 1. 1. 0. 0. 1. 0.]\n",
      " [0. 0. 0. 0. 1. 0. 0. 0. 0.]\n",
      " [0. 0. 0. 0. 0. 0. 0. 0. 0.]\n",
      " [0. 0. 0. 0. 0. 0. 1. 0. 0.]\n",
      " [0. 0. 0. 1. 0. 0. 0. 0. 1.]\n",
      " [0. 0. 0. 0. 0. 0. 0. 0. 0.]\n",
      " [0. 0. 0. 0. 0. 0. 0. 0. 0.]]\n"
     ]
    },
    {
     "data": {
      "text/plain": [
       "True"
      ]
     },
     "execution_count": null,
     "metadata": {},
     "output_type": "execute_result"
    }
   ],
   "source": [
    "g = gu.AdjacencyMatrixGraph(9, directed=True)\n",
    "g.add_edge(0,1)\n",
    "g.add_edge(1,2)\n",
    "g.add_edge(2,7)\n",
    "g.add_edge(2,4)\n",
    "g.add_edge(2,3)\n",
    "g.add_edge(1,5)\n",
    "g.add_edge(5,6)\n",
    "g.add_edge(6,3)\n",
    "g.add_edge(3,4)\n",
    "g.add_edge(6,8)\n",
    "g.display()\n",
    "\n",
    "breadth_first(g, 0)"
   ]
  },
  {
   "cell_type": "code",
   "execution_count": null,
   "metadata": {},
   "outputs": [],
   "source": []
  },
  {
   "cell_type": "code",
   "execution_count": null,
   "metadata": {},
   "outputs": [],
   "source": []
  },
  {
   "cell_type": "code",
   "execution_count": null,
   "metadata": {},
   "outputs": [],
   "source": []
  },
  {
   "cell_type": "markdown",
   "metadata": {},
   "source": [
    "# Depth-first graph traversal\n",
    "\n",
    "> go deep in 1 direction until you reach a dead end"
   ]
  },
  {
   "cell_type": "code",
   "execution_count": null,
   "metadata": {},
   "outputs": [],
   "source": [
    "# export\n",
    "def depth_first(graph:gu.Graph, visited, current=0) -> List:\n",
    "    \"\"\"perform a DFS\n",
    "    \n",
    "    # Depth-first graph traversal\n",
    "    > go deep in 1 direction until you reach a dead end\n",
    "    \"\"\"\n",
    "    \n",
    "    # if a node has already been visited, end recursion\n",
    "    if visited[current]:\n",
    "        return \n",
    "    \n",
    "    # mark  node was visited\n",
    "    visited[current] = 1\n",
    "    \n",
    "    # iterate over all connected vertices\n",
    "    \n",
    "    print(\"Visit: \", current)\n",
    "    \n",
    "    for vertex in graph.get_adjacent_vertices(current):\n",
    "        depth_first(graph, visited, current=vertex)\n",
    "\n",
    "    "
   ]
  },
  {
   "cell_type": "code",
   "execution_count": null,
   "metadata": {},
   "outputs": [
    {
     "name": "stdout",
     "output_type": "stream",
     "text": [
      "Visit:  0\n",
      "Visit:  1\n",
      "Visit:  2\n",
      "Visit:  3\n",
      "Visit:  4\n",
      "Visit:  6\n",
      "Visit:  5\n",
      "Visit:  8\n",
      "Visit:  7\n"
     ]
    }
   ],
   "source": [
    "g = gu.AdjacencyMatrixGraph(9, directed=False)\n",
    "g.add_edge(0,1)\n",
    "g.add_edge(1,2)\n",
    "g.add_edge(2,7)\n",
    "g.add_edge(2,4)\n",
    "g.add_edge(2,3)\n",
    "g.add_edge(1,5)\n",
    "g.add_edge(5,6)\n",
    "g.add_edge(6,3)\n",
    "g.add_edge(3,4)\n",
    "g.add_edge(6,8)\n",
    "\n",
    "visited = np.zeros(g.numVertices)\n",
    "depth_first(g, visited)\n",
    "assert visited.all()"
   ]
  },
  {
   "cell_type": "code",
   "execution_count": null,
   "metadata": {},
   "outputs": [
    {
     "name": "stdout",
     "output_type": "stream",
     "text": [
      "Visit:  0\n",
      "Visit:  1\n",
      "Visit:  2\n",
      "Visit:  3\n",
      "Visit:  4\n",
      "Visit:  7\n",
      "Visit:  5\n",
      "Visit:  6\n",
      "Visit:  8\n"
     ]
    }
   ],
   "source": [
    "g = gu.AdjacencyMatrixGraph(9, directed=True)\n",
    "g.add_edge(0,1)\n",
    "g.add_edge(1,2)\n",
    "g.add_edge(2,7)\n",
    "g.add_edge(2,4)\n",
    "g.add_edge(2,3)\n",
    "g.add_edge(1,5)\n",
    "g.add_edge(5,6)\n",
    "g.add_edge(6,3)\n",
    "g.add_edge(3,4)\n",
    "g.add_edge(6,8)\n",
    "\n",
    "visited = np.zeros(g.numVertices)\n",
    "depth_first(g, visited)\n",
    "assert visited.all()"
   ]
  },
  {
   "cell_type": "code",
   "execution_count": null,
   "metadata": {},
   "outputs": [],
   "source": []
  }
 ],
 "metadata": {
  "kernelspec": {
   "display_name": "Python (py3k)",
   "language": "python",
   "name": "py3k"
  }
 },
 "nbformat": 4,
 "nbformat_minor": 4
}
