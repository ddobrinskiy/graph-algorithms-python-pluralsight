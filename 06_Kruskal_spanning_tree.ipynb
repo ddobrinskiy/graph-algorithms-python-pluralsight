{
 "cells": [
  {
   "cell_type": "code",
   "execution_count": null,
   "metadata": {},
   "outputs": [],
   "source": [
    "# default_exp kruskal"
   ]
  },
  {
   "cell_type": "markdown",
   "metadata": {},
   "source": [
    "# Kruskal\n",
    "\n",
    "> spanning tree for disjoint graphs"
   ]
  },
  {
   "cell_type": "code",
   "execution_count": null,
   "metadata": {},
   "outputs": [],
   "source": [
    "# export\n",
    "from queue import Queue\n",
    "from typing import List, Dict\n",
    "from collections import namedtuple\n",
    "\n",
    "import graph_utils.core as gu\n",
    "from graph_utils.dijsktra import priority_dict"
   ]
  },
  {
   "cell_type": "code",
   "execution_count": null,
   "metadata": {},
   "outputs": [],
   "source": [
    "# export\n",
    "\n",
    "def spanning_tree(graph:gu.Graph):\n",
    "    sp_tree_is_found = False\n",
    "    \n",
    "    priority_queue = priority_dict()\n",
    "    for v in range(graph.numVertices):\n",
    "        for neighbor in graph.get_adjacent_vertices(v):\n",
    "            priority_queue[(v, neighbor)] = graph.get_edge_weight(v, neighbor)\n",
    "\n",
    "    visited_vertices = set()\n",
    "\n",
    "    # maps node to adj nodes which are in the minimum spanning tree\n",
    "    spanning_tree = dict()\n",
    "\n",
    "    for v in range(graph.numVertices):\n",
    "        spanning_tree[v] = set()\n",
    "\n",
    "    # num of edjes we have so far\n",
    "    num_edges = 0\n",
    "\n",
    "    while len(priority_queue) and (num_edges < graph.numVertices - 1):\n",
    "        v1, v2 = priority_queue.pop_smallest()\n",
    "\n",
    "        if v1 in spanning_tree[v2]:\n",
    "            continue\n",
    "\n",
    "        vertex_pair = sorted([v1, v2])\n",
    "\n",
    "        spanning_tree[vertex_pair[0]].add(vertex_pair[1])\n",
    "\n",
    "\n",
    "        if has_cycle(spanning_tree):\n",
    "            spanning_tree[vertex_pair[0]].remove(vertex_pair[1])\n",
    "            continue\n",
    "\n",
    "        num_edges -= 1\n",
    "\n",
    "        visited_vertices.add(v1)\n",
    "        visited_vertices.add(v2)\n",
    "\n",
    "        print(\"Visited:\", visited_vertices)\n",
    "\n",
    "        if len(visited_vertices) != graph.numVertices:\n",
    "            print('min spanning tree not found')\n",
    "        else:\n",
    "            print(\"min spanning tree:\")\n",
    "            for key in spanning_tree:\n",
    "                for value in spanning_tree[key]:\n",
    "                    print(key, \"-->\", value)\n",
    "            sp_tree_is_found = True\n",
    "            \n",
    "    return sp_tree_is_found\n",
    "\n",
    "\n"
   ]
  },
  {
   "cell_type": "code",
   "execution_count": null,
   "metadata": {},
   "outputs": [],
   "source": [
    "# export\n",
    "def has_cycle(spanning_tree):\n",
    "    for source in spanning_tree:\n",
    "        q = []\n",
    "        q.append(source)\n",
    "        \n",
    "        visited_vertices = set()\n",
    "        while q:\n",
    "            vertex = q.pop(0)\n",
    "            \n",
    "            if vertex in visited_vertices:\n",
    "                return True\n",
    "            \n",
    "            visited_vertices.add(vertex)\n",
    "            q.extend(spanning_tree[vertex])\n",
    "            \n",
    "    return False"
   ]
  },
  {
   "cell_type": "code",
   "execution_count": null,
   "metadata": {},
   "outputs": [],
   "source": [
    "g = gu.AdjacencyMatrixGraph(8, directed=False)\n",
    "g.add_edge(0, 1,1 )\n",
    "g.add_edge(1, 2,2 )\n",
    "g.add_edge(1, 3,2 )\n",
    "g.add_edge(2, 3,2 )\n",
    "g.add_edge(1, 4,3 )\n",
    "g.add_edge(3, 5,1 )\n",
    "g.add_edge(5, 4,3 )\n",
    "g.add_edge(3, 6,1 )\n",
    "g.add_edge(6, 7,1 )\n",
    "g.add_edge(0, 7,1 )"
   ]
  },
  {
   "cell_type": "code",
   "execution_count": null,
   "metadata": {},
   "outputs": [
    {
     "name": "stdout",
     "output_type": "stream",
     "text": [
      "Visited: {0, 1}\n",
      "min spanning tree not found\n",
      "Visited: {0, 1, 7}\n",
      "min spanning tree not found\n",
      "Visited: {0, 1, 3, 5, 7}\n",
      "min spanning tree not found\n",
      "Visited: {0, 1, 3, 5, 6, 7}\n",
      "min spanning tree not found\n",
      "Visited: {0, 1, 3, 5, 6, 7}\n",
      "min spanning tree not found\n",
      "Visited: {0, 1, 2, 3, 5, 6, 7}\n",
      "min spanning tree not found\n",
      "Visited: {0, 1, 2, 3, 4, 5, 6, 7}\n",
      "min spanning tree:\n",
      "0 --> 1\n",
      "0 --> 7\n",
      "1 --> 2\n",
      "1 --> 4\n",
      "3 --> 5\n",
      "3 --> 6\n",
      "6 --> 7\n",
      "Visited: {0, 1, 2, 3, 4, 5, 6, 7}\n",
      "min spanning tree:\n",
      "0 --> 1\n",
      "0 --> 7\n",
      "1 --> 2\n",
      "1 --> 4\n",
      "3 --> 5\n",
      "3 --> 6\n",
      "4 --> 5\n",
      "6 --> 7\n"
     ]
    }
   ],
   "source": [
    "assert spanning_tree(g)"
   ]
  },
  {
   "cell_type": "code",
   "execution_count": null,
   "metadata": {},
   "outputs": [],
   "source": []
  }
 ],
 "metadata": {
  "kernelspec": {
   "display_name": "Python (py3k)",
   "language": "python",
   "name": "py3k"
  }
 },
 "nbformat": 4,
 "nbformat_minor": 4
}
