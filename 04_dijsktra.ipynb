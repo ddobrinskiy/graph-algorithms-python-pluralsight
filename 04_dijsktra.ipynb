{
 "cells": [
  {
   "cell_type": "code",
   "execution_count": null,
   "metadata": {},
   "outputs": [],
   "source": [
    "# default_exp dijsktra"
   ]
  },
  {
   "cell_type": "markdown",
   "metadata": {},
   "source": [
    "# Dijsktra\n",
    "\n",
    "> shortest path with weights"
   ]
  },
  {
   "cell_type": "code",
   "execution_count": null,
   "metadata": {},
   "outputs": [],
   "source": [
    "# export\n",
    "from queue import Queue\n",
    "from typing import List, Dict\n",
    "from collections import namedtuple\n",
    "\n",
    "import pandas as pd\n",
    "\n",
    "import graph_utils.core as gu\n",
    "from graph_utils.shortest_path import shortest_path"
   ]
  },
  {
   "cell_type": "code",
   "execution_count": null,
   "metadata": {},
   "outputs": [],
   "source": [
    "# export\n",
    "from heapq import heapify, heappush, heappop\n",
    "\n",
    "class priority_dict(dict):\n",
    "    \"\"\"Dictionary that can be used as a priority queue.\n",
    "\n",
    "    Keys of the dictionary are items to be put into the queue, and values\n",
    "    are their respective priorities. All dictionary methods work as expected.\n",
    "    The advantage over a standard heapq-based priority queue is\n",
    "    that priorities of items can be efficiently updated (amortized O(1))\n",
    "    using code as 'thedict[item] = new_priority.'\n",
    "\n",
    "    The 'smallest' method can be used to return the object with lowest\n",
    "    priority, and 'pop_smallest' also removes it.\n",
    "\n",
    "    The 'sorted_iter' method provides a destructive sorted iterator.\n",
    "    \n",
    "    SOURCE:\n",
    "    https://code.activestate.com/recipes/522995-priority-dict-a-priority-queue-with-updatable-prio/\n",
    "    \"\"\"\n",
    "    \n",
    "    def __init__(self, *args, **kwargs):\n",
    "        super(priority_dict, self).__init__(*args, **kwargs)\n",
    "        self._rebuild_heap()\n",
    "\n",
    "    def _rebuild_heap(self):\n",
    "        self._heap = [(v, k) for k, v in self.items()]\n",
    "        heapify(self._heap)\n",
    "\n",
    "    def smallest(self):\n",
    "        \"\"\"Return the item with the lowest priority.\n",
    "\n",
    "        Raises IndexError if the object is empty.\n",
    "        \"\"\"\n",
    "        \n",
    "        heap = self._heap\n",
    "        v, k = heap[0]\n",
    "        while k not in self or self[k] != v:\n",
    "            heappop(heap)\n",
    "            v, k = heap[0]\n",
    "        return k\n",
    "\n",
    "    def pop_smallest(self):\n",
    "        \"\"\"Return the item with the lowest priority and remove it.\n",
    "\n",
    "        Raises IndexError if the object is empty.\n",
    "        \"\"\"\n",
    "        \n",
    "        heap = self._heap\n",
    "        v, k = heappop(heap)\n",
    "        while k not in self or self[k] != v:\n",
    "            v, k = heappop(heap)\n",
    "        del self[k]\n",
    "        return k\n",
    "\n",
    "    def __setitem__(self, key, val):\n",
    "        # We are not going to remove the previous value from the heap,\n",
    "        # since this would have a cost O(n).\n",
    "        \n",
    "        super(priority_dict, self).__setitem__(key, val)\n",
    "        \n",
    "        if len(self._heap) < 2 * len(self):\n",
    "            heappush(self._heap, (val, key))\n",
    "        else:\n",
    "            # When the heap grows larger than 2 * len(self), we rebuild it\n",
    "            # from scratch to avoid wasting too much memory.\n",
    "            self._rebuild_heap()\n",
    "\n",
    "    def setdefault(self, key, val):\n",
    "        if key not in self:\n",
    "            self[key] = val\n",
    "            return val\n",
    "        return self[key]\n",
    "\n",
    "    def update(self, *args, **kwargs):\n",
    "        # Reimplementing dict.update is tricky -- see e.g.\n",
    "        # http://mail.python.org/pipermail/python-ideas/2007-May/000744.html\n",
    "        # We just rebuild the heap from scratch after passing to super.\n",
    "        \n",
    "        super(priority_dict, self).update(*args, **kwargs)\n",
    "        self._rebuild_heap()\n",
    "\n",
    "    def sorted_iter(self):\n",
    "        \"\"\"Sorted iterator of the priority dictionary items.\n",
    "\n",
    "        Beware: this will destroy elements as they are returned.\n",
    "        \"\"\"\n",
    "        \n",
    "        while self:\n",
    "            yield self.pop_smallest()\n"
   ]
  },
  {
   "cell_type": "code",
   "execution_count": null,
   "metadata": {},
   "outputs": [],
   "source": [
    "# export\n",
    "Row = namedtuple('Node', ['distance_from_source', 'preceding_vertex'])"
   ]
  },
  {
   "cell_type": "code",
   "execution_count": null,
   "metadata": {},
   "outputs": [],
   "source": []
  },
  {
   "cell_type": "code",
   "execution_count": null,
   "metadata": {},
   "outputs": [],
   "source": [
    "# export\n",
    "def build_distance_table(graph:gu.Graph, source:int):\n",
    "    distance_table = dict()\n",
    "\n",
    "    # initiate an empty distance table\n",
    "    for i in range(graph.numVertices):\n",
    "        #distance_table[i] = Row(distance_from_source=None, preceding_vertex=None)\n",
    "        distance_table[i] = Row(None, None)\n",
    "\n",
    "    # distance to the source from itself is 0\n",
    "    distance_table[source] = Row(0, source)\n",
    "\n",
    "\n",
    "    # Holds mapping of vertex id to distance\n",
    "    # from source. Access the highest priority (lowest distance)\n",
    "    # item first\n",
    "    priority_queue = priority_dict()\n",
    "    # priority_queue[vertex number] = distance\n",
    "\n",
    "    priority_queue[source] = 0\n",
    "\n",
    "    while priority_queue:\n",
    "        current_vertex = priority_queue.pop_smallest()\n",
    "\n",
    "        current_distance = distance_table[current_vertex][0]\n",
    "\n",
    "        for neigbor in graph.get_adjacent_vertices(current_vertex):\n",
    "            distance = current_distance + g.get_edge_weight(current_vertex, neigbor)\n",
    "\n",
    "            neigbor_distance = distance_table[neigbor][0]\n",
    "\n",
    "            if neigbor_distance is None or neigbor_distance > distance:\n",
    "                distance_table[neigbor] = Row(distance, current_vertex)\n",
    "\n",
    "                priority_queue[neigbor] = distance\n",
    "\n",
    "\n",
    "    return distance_table"
   ]
  },
  {
   "cell_type": "code",
   "execution_count": null,
   "metadata": {},
   "outputs": [],
   "source": [
    "g = gu.AdjacencyMatrixGraph(8, directed=False)\n",
    "g.add_edge(0, 1, 1)\n",
    "g.add_edge(1, 2, 2)\n",
    "g.add_edge(1, 3, 6)\n",
    "g.add_edge(2, 3, 2)\n",
    "g.add_edge(1, 4, 3)\n",
    "g.add_edge(3, 5, 1)\n",
    "g.add_edge(5, 4, 5)\n",
    "g.add_edge(3, 6, 1)\n",
    "g.add_edge(6, 7, 1)\n",
    "g.add_edge(0, 7, 8)"
   ]
  },
  {
   "cell_type": "code",
   "execution_count": null,
   "metadata": {},
   "outputs": [],
   "source": [
    "assert pd.DataFrame(build_distance_table(g, 0)).to_dict() == {\n",
    " 0: {0: 0  , 1: 0  },\n",
    " 1: {0: 1.0, 1: 0.0},\n",
    " 2: {0: 3.0, 1: 1.0},\n",
    " 3: {0: 5.0, 1: 2.0},\n",
    " 4: {0: 4.0, 1: 1.0},\n",
    " 5: {0: 6.0, 1: 3.0},\n",
    " 6: {0: 6.0, 1: 3.0},\n",
    " 7: {0: 7.0, 1: 6.0}}"
   ]
  },
  {
   "cell_type": "code",
   "execution_count": null,
   "metadata": {},
   "outputs": [],
   "source": [
    "assert shortest_path(g, 0, 6, build_distance_table) == [0, 1, 2, 3, 6]\n",
    "assert shortest_path(g, 4, 7, build_distance_table) == [4,5,3,6,7]\n",
    "assert shortest_path(g, 7, 0, build_distance_table) == [7,6,3,2,1,0]"
   ]
  },
  {
   "cell_type": "code",
   "execution_count": null,
   "metadata": {},
   "outputs": [],
   "source": [
    "g = gu.AdjacencyMatrixGraph(8, directed=True)\n",
    "g.add_edge(0, 1, 1)\n",
    "g.add_edge(1, 2, 2)\n",
    "g.add_edge(1, 3, 6)\n",
    "g.add_edge(2, 3, 2)\n",
    "g.add_edge(1, 4, 3)\n",
    "g.add_edge(3, 5, 1)\n",
    "g.add_edge(5, 4, 5)\n",
    "g.add_edge(3, 6, 1)\n",
    "g.add_edge(6, 7, 1)\n",
    "g.add_edge(0, 7, 8)"
   ]
  },
  {
   "cell_type": "code",
   "execution_count": null,
   "metadata": {},
   "outputs": [
    {
     "name": "stdout",
     "output_type": "stream",
     "text": [
      "There is no path from 4 to 7\n",
      "There is no path from 7 to 0\n"
     ]
    }
   ],
   "source": [
    "assert shortest_path(g, 0, 6, build_distance_table) == [0, 1, 2, 3, 6]\n",
    "assert shortest_path(g, 4, 7, build_distance_table) is None\n",
    "assert shortest_path(g, 7, 0, build_distance_table) is None"
   ]
  },
  {
   "cell_type": "code",
   "execution_count": null,
   "metadata": {},
   "outputs": [],
   "source": []
  }
 ],
 "metadata": {
  "kernelspec": {
   "display_name": "Python (py3k)",
   "language": "python",
   "name": "py3k"
  }
 },
 "nbformat": 4,
 "nbformat_minor": 4
}
